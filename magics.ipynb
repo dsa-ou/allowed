{
 "cells": [
  {
   "cell_type": "markdown",
   "metadata": {},
   "source": [
    "# Welcome\n",
    "This is a test file for the allowed checker. As this is a markdown cell, it should be skipped."
   ]
  },
  {
   "cell_type": "code",
   "execution_count": null,
   "metadata": {},
   "outputs": [],
   "source": [
    "import math\n",
    "%timeit 42 * 42\n",
    "area_of_circle = lambda r : math.pi * r ** 2 "
   ]
  },
  {
   "cell_type": "code",
   "execution_count": null,
   "metadata": {},
   "outputs": [],
   "source": [
    "def reversed_list(values: list) -> list # missing : syntax error\n",
    "    \"\"\"Return the same items as values, in inverse order.\n",
    "\n",
    "    Postconditions: the output is\n",
    "    [values[-1], values [-2], ..., values[1], values[0]]\n",
    "    \"\"\"\n",
    "    reversed = []\n",
    "    for item in values:\n",
    "        reversed.insert(0, item)\n",
    "    return reversed\n",
    "\n",
    "x = 42\n",
    "y = 24 \n",
    "message = f\"The variable x holds value {x}, the variable y holds value {y}\""
   ]
  },
  {
   "cell_type": "code",
   "execution_count": null,
   "metadata": {},
   "outputs": [],
   "source": [
    "from matplotlib.pyplot import plot,xlabel,ylabel,title,legend,show\n",
    "%matplotlib inline\n",
    "\n",
    "n_values = []               # the values for n\n",
    "linear_times = []           # normal factorisation\n",
    "symmetric_times = []        # symmetric factorisation\n",
    "root_times = []             # root factorisation\n",
    "for n in range(200):\n",
    "    n_values.append(n)\n",
    "\n",
    "    run_times = %timeit -q -o -r 3 -n 100 factorisation(n)\n",
    "    linear_times.append(run_times.best * 1e6)\n",
    "\n",
    "    run_times = %timeit -q -o -r 3 -n 100 symmetric_factorisation(n)\n",
    "    symmetric_times.append(run_times.best * 1e6)\n",
    "\n",
    "    run_times = %timeit -q -o -r 3 -n 100 root_factorisation(n)\n",
    "    root_times.append(run_times.best * 1e6)\n",
    "\n",
    "plot(n_values, linear_times, 'r-', label='search 1 to n')\n",
    "plot(n_values, symmetric_times, 'k.', label='add f and n/f')\n",
    "plot(n_values, root_times,'b-', label='search 1 to $\\sqrt{n}$')\n",
    "title('Factorisation')\n",
    "xlabel('n')\n",
    "ylabel('Run-time (µs)')\n",
    "legend()\n",
    "show()"
   ]
  }
 ],
 "metadata": {
  "kernelspec": {
   "display_name": "Python 3 (ipykernel)",
   "language": "python",
   "name": "python3"
  },
  "language_info": {
   "codemirror_mode": {
    "name": "ipython",
    "version": 3
   },
   "file_extension": ".py",
   "mimetype": "text/x-python",
   "name": "python",
   "nbconvert_exporter": "python",
   "pygments_lexer": "ipython3",
   "version": "3.10.10"
  },
  "vscode": {
   "interpreter": {
    "hash": "8cee12ad2512558cdc79ba90299b13d726dd4d1e1af5c2af4af5b58f6d7a985d"
   }
  }
 },
 "nbformat": 4,
 "nbformat_minor": 2
}
