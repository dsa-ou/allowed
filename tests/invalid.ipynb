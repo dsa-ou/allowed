This file is not in Jupyter's JSON format.
It's for testing the robustness of `allowed`.