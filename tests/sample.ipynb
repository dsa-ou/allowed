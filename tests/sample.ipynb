{
 "cells": [
  {
   "attachments": {},
   "cell_type": "markdown",
   "metadata": {},
   "source": [
    "# Test notebook\n",
    "This is a test file for the [`allowed`](https://github.com/dsa-ou/allowed) checker.\n",
    "It assumes the default configuration for M269.\n",
    "## Markdown\n",
    "Markdown cells are _not_ checked, even if they have some code:\n",
    "```py\n",
    "x = (5, # syntax error\n",
    "```\n",
    "\n",
    "## Python code\n",
    "Code cells are checked, unless they have a syntax error.\n",
    "The checker reports an error in line 2 of the next cell and doesn't check it."
   ]
  },
  {
   "cell_type": "code",
   "execution_count": null,
   "metadata": {},
   "outputs": [],
   "source": [
    "[x % 2 for x in range(10)]\n",
    "x = (5, # missing )"
   ]
  },
  {
   "attachments": {},
   "cell_type": "markdown",
   "metadata": {},
   "source": [
    "The next cell is checked because it's valid Python (no syntax error)."
   ]
  },
  {
   "cell_type": "code",
   "execution_count": null,
   "metadata": {},
   "outputs": [],
   "source": [
    "\"\"\"Sample code to test the checker.\"\"\"\n",
    "\n",
    "import math\n",
    "import types\n",
    "from random import choice, shuffle\n",
    "\n",
    "\n",
    "def is_prime(n: int) -> bool:\n",
    "    \"\"\"Check if a positive integer is prime.\"\"\"\n",
    "    assert n > 0\n",
    "    if n == 1:\n",
    "        return False\n",
    "    for factor in range(2, n):\n",
    "        if n % factor == 0:\n",
    "            decision = False\n",
    "            break\n",
    "        elif factor > math.sqrt(n):\n",
    "            decision = True\n",
    "            break\n",
    "    else:  # no break\n",
    "        decision = True\n",
    "    return decision\n",
    "\n",
    "\n",
    "for n in range(10):\n",
    "    try:\n",
    "        print(n, \"prime\" if is_prime(n) else \"not prime\")\n",
    "    except AssertionError:\n",
    "        print(n, \"not positive\")"
   ]
  },
  {
   "attachments": {},
   "cell_type": "markdown",
   "metadata": {},
   "source": [
    "## Cell magics\n",
    "\n",
    "Cell magics are IPython commands starting with `%%`. \n",
    "If IPython is not installed, a cell magic leads to a syntax error \n",
    "(because it's not Python) and the cell isn't checked.\n",
    "If IPython is installed, the cell is ignored."
   ]
  },
  {
   "cell_type": "code",
   "execution_count": null,
   "metadata": {},
   "outputs": [],
   "source": [
    "%%javascript\n",
    "var header = document.getElementsByClassName(\"header\")[0];"
   ]
  },
  {
   "attachments": {},
   "cell_type": "markdown",
   "metadata": {},
   "source": [
    "Since cell magics lead to syntax errors or to ignoring the cell,\n",
    "disallowed constructs are not reported."
   ]
  },
  {
   "cell_type": "code",
   "execution_count": null,
   "metadata": {},
   "outputs": [],
   "source": [
    "%%capture output\n",
    "print(\"2^6=\", 1 << 6)   # this isn't reported"
   ]
  },
  {
   "attachments": {},
   "cell_type": "markdown",
   "metadata": {},
   "source": [
    "## Line magics\n",
    "A line magic is an IPython command starting with a single `%`.\n",
    "If IPython is installed, the magic is ignored and the other code is checked;\n",
    "otherwise the line magic leads to a syntax error and the code isn't checked."
   ]
  },
  {
   "cell_type": "code",
   "execution_count": null,
   "metadata": {},
   "outputs": [],
   "source": [
    "def odd_numbers(n: int) -> list[int]:\n",
    "    \"\"\"Return a list of the first n odd numbers.\"\"\"\n",
    "    result = []\n",
    "    value = 0\n",
    "    while True:\n",
    "        if len(result) == n:\n",
    "            break\n",
    "        value += 1\n",
    "        if value % 2 == 1:\n",
    "            result.append(value)\n",
    "        else:\n",
    "            continue\n",
    "    else:  # no break\n",
    "        pass  # infinite loop finished\n",
    "    return result\n",
    "\n",
    "%timeit odd_numbers(1000)   # line magic to measure the run-time"
   ]
  },
  {
   "attachments": {},
   "cell_type": "markdown",
   "metadata": {},
   "source": [
    "The next cell contains a line magic within an assignment. Again, this is\n",
    "ignored if IPython is installed, otherwise the cell is considered invalid\n",
    "Python and not checked."
   ]
  },
  {
   "cell_type": "code",
   "execution_count": null,
   "metadata": {},
   "outputs": [],
   "source": [
    "FIRST = 5\n",
    "odd = odd_numbers(FIRST)\n",
    "run_time = %timeit -q -o -r 3 -n 100 odd_numbers(FIRST)\n",
    "print(f\"first {FIRST} odd numbers: {odd}\")\n",
    "if odd.count(2) == 1:   # this is reported if pytype is installed\n",
    "    print(\"2 is considered odd: that's odd!\")\n",
    "print(\"last odd generated:\", odd.pop())\n",
    "\n",
    "print(\"2^6 =\", 1 << 6)  # this is reported\n",
    "print(\"Euler number e =\", math.e)\n",
    "if type(odd_numbers) == types.FunctionType:\n",
    "    print(\"odd_numbers is a function\")\n",
    "\n",
    "x = 5\n",
    "x = \"five\""
   ]
  }
 ],
 "metadata": {
  "kernelspec": {
   "display_name": "dsa-ou",
   "language": "python",
   "name": "python3"
  },
  "language_info": {
   "codemirror_mode": {
    "name": "ipython",
    "version": 3
   },
   "file_extension": ".py",
   "mimetype": "text/x-python",
   "name": "python",
   "nbconvert_exporter": "python",
   "pygments_lexer": "ipython3",
   "version": "3.10.10"
  },
  "orig_nbformat": 4,
  "vscode": {
   "interpreter": {
    "hash": "49205d58e121ab1f37971b193f92e95bfb911194d7bd72e3b8eb85a1a70cf18d"
   }
  }
 },
 "nbformat": 4,
 "nbformat_minor": 2
}
