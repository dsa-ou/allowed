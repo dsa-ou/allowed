{
 "cells": [
  {
   "cell_type": "markdown",
   "metadata": {},
   "source": [
    "# Welcome\n",
    "This is a test file for the allowed checker. As this is a markdown cell, it should be skipped."
   ]
  },
  {
   "cell_type": "code",
   "execution_count": null,
   "metadata": {},
   "outputs": [],
   "source": [
    "\"\"\"Sample code to test the checker.\"\"\"\n",
    "\n",
    "import math\n",
    "import types\n",
    "from random import choice, shuffle\n",
    "\n",
    "\n",
    "def is_prime(n: int) -> bool:\n",
    "    \"\"\"Check if a positive integer is prime.\"\"\"\n",
    "    assert n > 0\n",
    "    if n == 1:\n",
    "        return False\n",
    "    for factor in range(2, n):\n",
    "        if n % factor == 0:\n",
    "            decision = False\n",
    "            break\n",
    "        elif factor > math.sqrt(n):\n",
    "            decision = True\n",
    "            break\n",
    "    else:  # no break\n",
    "        decision = True\n",
    "    return decision\n",
    "\n",
    "\n",
    "for n in range(10):\n",
    "    try:\n",
    "        print(n, \"prime\" if is_prime(n) else \"not prime\")\n",
    "    except AssertionError:\n",
    "        print(n, \"not positive\")"
   ]
  },
  {
   "cell_type": "markdown",
   "metadata": {},
   "source": [
    "Above is a code cell that should have been checked. Another section is below."
   ]
  },
  {
   "cell_type": "code",
   "execution_count": null,
   "metadata": {},
   "outputs": [],
   "source": [
    "def odd_numbers(n: int) -> list[int]:\n",
    "    \"\"\"Return a list of the first n odd numbers.\"\"\"\n",
    "    result = []\n",
    "    value = 0\n",
    "    while True:\n",
    "        if len(result) == n:\n",
    "            break\n",
    "        value += 1\n",
    "        if value % 2 == 1:\n",
    "            result.append(value)\n",
    "        else:\n",
    "            continue\n",
    "    else:  # no break\n",
    "        pass  # infinite loop finished\n",
    "    return result"
   ]
  },
  {
   "cell_type": "markdown",
   "metadata": {},
   "source": [
    "Below is a cell containing a magic command, it should be skipped."
   ]
  },
  {
   "cell_type": "code",
   "execution_count": null,
   "metadata": {
    "scrolled": true
   },
   "outputs": [],
   "source": [
    "%timeit 42 * 42\n",
    "# lambda would normally be flagged as error but should be skipped\n",
    "area_of_circle = lambda r : math.pi * r ** 2 "
   ]
  },
  {
   "cell_type": "markdown",
   "metadata": {},
   "source": [
    "Below is a cell with syntax errors, it should also be skipped."
   ]
  },
  {
   "cell_type": "code",
   "execution_count": null,
   "metadata": {},
   "outputs": [],
   "source": [
    "def reversed_list(values: list) -> list # missing : syntax error\n",
    "    \"\"\"Return the same items as values, in inverse order.\n",
    "\n",
    "    Postconditions: the output is\n",
    "    [values[-1], values [-2], ..., values[1], values[0]]\n",
    "    \"\"\"\n",
    "    reversed = []\n",
    "    for item in values:\n",
    "        reversed.insert(0, item)\n",
    "    return reversed\n",
    "\n",
    "x = 42\n",
    "y = 24 \n",
    "# The following construct would not be allowed and would be flagged and printed but because\n",
    "# the cell is skipped this should not happen.\n",
    "message = f\"The variable x holds value {x}, the variable y holds value {y}\""
   ]
  },
  {
   "cell_type": "markdown",
   "metadata": {},
   "source": [
    "I have split this file out into different sections to simulate a normal Jupyter Notebook. Inline code should also be ignored `print(n, \"prime\" if is_prime(n) else \"not prime\")`"
   ]
  },
  {
   "cell_type": "code",
   "execution_count": null,
   "metadata": {},
   "outputs": [],
   "source": [
    "FIRST = 5\n",
    "odd = odd_numbers(FIRST)\n",
    "print(f\"first {FIRST} odd numbers: {odd}\")\n",
    "if odd.count(2) == 1:\n",
    "    print(\"2 is considered odd: that's odd!\")\n",
    "print(\"last odd generated:\", odd.pop())\n",
    "\n",
    "print(\"2^6 =\", 1 << 6)\n",
    "print(\"Euler number e =\", math.e)\n",
    "if type(odd_numbers) == types.FunctionType:\n",
    "    print(\"odd_numbers is a function\")\n",
    "\n",
    "\n",
    "x = 5\n",
    "x = \"five\""
   ]
  }
 ],
 "metadata": {
  "kernelspec": {
   "display_name": "Python 3 (ipykernel)",
   "language": "python",
   "name": "python3"
  },
  "language_info": {
   "codemirror_mode": {
    "name": "ipython",
    "version": 3
   },
   "file_extension": ".py",
   "mimetype": "text/x-python",
   "name": "python",
   "nbconvert_exporter": "python",
   "pygments_lexer": "ipython3",
   "version": "3.10.9"
  },
  "vscode": {
   "interpreter": {
    "hash": "8cee12ad2512558cdc79ba90299b13d726dd4d1e1af5c2af4af5b58f6d7a985d"
   }
  }
 },
 "nbformat": 4,
 "nbformat_minor": 2
}
