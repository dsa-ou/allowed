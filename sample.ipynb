{
 "cells": [
  {
   "attachments": {},
   "cell_type": "markdown",
   "metadata": {},
   "source": [
    "# Welcome\n",
    "This is a test file for the allowed checker. As this is a markdown cell, it should be skipped."
   ]
  },
  {
   "cell_type": "code",
   "execution_count": null,
   "metadata": {},
   "outputs": [],
   "source": [
    "\"\"\"Sample code to test the checker.\"\"\"\n",
    "\n",
    "import math\n",
    "import types\n",
    "from random import choice, shuffle\n",
    "\n",
    "\n",
    "def is_prime(n: int) -> bool:\n",
    "    \"\"\"Check if a positive integer is prime.\"\"\"\n",
    "    assert n > 0\n",
    "    if n == 1:\n",
    "        return False\n",
    "    for factor in range(2, n):\n",
    "        if n % factor == 0:\n",
    "            decision = False\n",
    "            break\n",
    "        elif factor > math.sqrt(n):\n",
    "            decision = True\n",
    "            break\n",
    "    else:  # no break\n",
    "        decision = True\n",
    "    return decision\n",
    "\n",
    "\n",
    "for n in range(10):\n",
    "    try:\n",
    "        print(n, \"prime\" if is_prime(n) else \"not prime\")\n",
    "    except AssertionError:\n",
    "        print(n, \"not positive\")"
   ]
  },
  {
   "attachments": {},
   "cell_type": "markdown",
   "metadata": {},
   "source": [
    "Above is a code cell that should have been checked. Another section is below."
   ]
  },
  {
   "cell_type": "code",
   "execution_count": null,
   "metadata": {},
   "outputs": [],
   "source": [
    "def odd_numbers(n: int) -> list[int]:\n",
    "    \"\"\"Return a list of the first n odd numbers.\"\"\"\n",
    "    result = []\n",
    "    value = 0\n",
    "    while True:\n",
    "        if len(result) == n:\n",
    "            break\n",
    "        value += 1\n",
    "        if value % 2 == 1:\n",
    "            result.append(value)\n",
    "        else:\n",
    "            continue\n",
    "    else:  # no break\n",
    "        pass  # infinite loop finished\n",
    "    return result"
   ]
  },
  {
   "attachments": {},
   "cell_type": "markdown",
   "metadata": {},
   "source": [
    "I have split this file out into different sections to simulate a normal Jupyter Notebook. Inline code should also be ignored `print(n, \"prime\" if is_prime(n) else \"not prime\")`"
   ]
  },
  {
   "cell_type": "code",
   "execution_count": null,
   "metadata": {},
   "outputs": [],
   "source": [
    "FIRST = 5\n",
    "odd = odd_numbers(FIRST)\n",
    "print(f\"first {FIRST} odd numbers: {odd}\")\n",
    "if odd.count(2) == 1:\n",
    "    print(\"2 is considered odd: that's odd!\")\n",
    "print(\"last odd generated:\", odd.pop())\n",
    "\n",
    "print(\"2^6 =\", 1 << 6)\n",
    "print(\"Euler number e =\", math.e)\n",
    "if type(odd_numbers) == types.FunctionType:\n",
    "    print(\"odd_numbers is a function\")\n",
    "\n",
    "\n",
    "x = 5\n",
    "x = \"five\""
   ]
  }
 ],
 "metadata": {
  "kernelspec": {
   "display_name": "env",
   "language": "python",
   "name": "python3"
  },
  "language_info": {
   "name": "python",
   "version": "3.10.10"
  },
  "orig_nbformat": 4,
  "vscode": {
   "interpreter": {
    "hash": "8cee12ad2512558cdc79ba90299b13d726dd4d1e1af5c2af4af5b58f6d7a985d"
   }
  }
 },
 "nbformat": 4,
 "nbformat_minor": 2
}
